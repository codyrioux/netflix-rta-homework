{
 "cells": [
  {
   "cell_type": "markdown",
   "metadata": {},
   "source": [
    "# Real-Time Analytics Take Home Assignment"
   ]
  },
  {
   "cell_type": "markdown",
   "metadata": {},
   "source": [
    "# Introduction\n",
    "\n",
    "You are given the task of building a tool that automatically determines when a server starts to exhibit performance issues based on a set of streaming metrics. The goal is to determine a cut-off point when the server starts to behave in an non-predictable manner. For example, you might be interested in determining the number of requests per second (RPS) a server can handle before performance degradation occurs.\n",
    "\n",
    "You are given a set of metrics which characterize sever performance over a one hour period. Your goal is to: \n",
    "1. Implement a streaming algorithm which correctly determines when the instance has \"had enough\"\n",
    "2. Recommend network timeout values for the server\n",
    "3. Visualizaiton\n",
    "\n",
    "Your solution should produce an RPS value and time stamp for the cutoff, acceptable timout values, and associated visualizations. See below for further descriptions of the individual tasks.\n",
    "\n",
    "**NOTE:** This notebook is provided as a general framework for you to get started. Toward this end, your solution does NOT have to be completed in this notebook. Furthermore, you can use any language or libraries you like. "
   ]
  },
  {
   "cell_type": "code",
   "execution_count": null,
   "metadata": {
    "collapsed": true
   },
   "outputs": [],
   "source": [
    "%matplotlib inline\n",
    "import numpy as np\n",
    "import pandas as pd"
   ]
  },
  {
   "cell_type": "code",
   "execution_count": 4,
   "metadata": {
    "collapsed": false
   },
   "outputs": [],
   "source": [
    "# Load our data set\n",
    "data = pd.read_csv(\"data.csv\", index_col=0)"
   ]
  },
  {
   "cell_type": "markdown",
   "metadata": {},
   "source": [
    "## Dataset\n",
    "Our dataset contains a number of metrics produced by a sever with a one second reporting interval. In this case our system is a single virtual server running in a cloud environment. The following is a description of each column in the dataset.\n",
    "\n",
    "### Time\n",
    "The time at which the metric was measured.\n",
    "\n",
    "### RPS\n",
    "Requests per second (RPS) is a measure of how many requests the server took during this time step.\n",
    "\n",
    "### Latency\n",
    "Latency median and latency_99 represent the median latency and 99th percentile latency experienced during each time step. Latency is expressed in milliseconds.\n",
    "\n",
    "### CPU / Load Average\n",
    "These represent averages values (over the time step) for cpu and load average respectively.\n",
    "\n",
    "### Command a, b, c\n",
    "These metrics are counters, representing the number of times each command was executed during that time step. Commands are calls to other internal systems that our server depends upon."
   ]
  },
  {
   "cell_type": "markdown",
   "metadata": {},
   "source": [
    "## Task 1: Performance Cutoff\n",
    "Imagine we are performing what is called a squeeze test. We continually increase the traffic (RPS) going to a single server instance and observe the behaviour of this instance as we do so. The objective of this test is to determine at which RPS count the server can no longer handle further traffic. This will later assist us in setting up auto-scaling policies.\n",
    "\n",
    "Furthermore, lets imagine that we are streaming this data in, and the analytic must determine in \"real-time\" when the server has reached its limit of reasonable performance, terminating the test and returning the RPS at the time of termination. Given that we are 'streaming' the data we must perform the analysis time-step by time-step without looking ahead in the data.\n",
    "\n",
    "Can you determine at which time-step and RPS this server has exceeded its capcity for acceptable operation given that we do not have a formal definition of acceptable operation, nor do we know how that manifests itself in the data a priori?"
   ]
  },
  {
   "cell_type": "code",
   "execution_count": 24,
   "metadata": {
    "collapsed": false
   },
   "outputs": [],
   "source": [
    "for row in data.iterrows():\n",
    "    pass\n",
    "    #print row # Probably want to do something more useful here"
   ]
  },
  {
   "cell_type": "markdown",
   "metadata": {},
   "source": [
    "## Task 2: Networking Timeouts\n",
    "The team responsible for the server was pleased with your approach above, and they want to provide timeout recommendations for services that depend on them. You've been tasked with performing some form of analysis on the 99th percentile latency to algorithmically determine an appropriate timeout value for this service."
   ]
  },
  {
   "cell_type": "code",
   "execution_count": 21,
   "metadata": {
    "collapsed": false
   },
   "outputs": [],
   "source": [
    "latency_99 = data['latency_99th_percentile']"
   ]
  },
  {
   "cell_type": "markdown",
   "metadata": {},
   "source": [
    "## Task 3: Visualization\n",
    "The team you have been working with has become very interested in your analytical abilities, and would like some dashboards with visualizations to convey some insight about this data in the future. Consider this free form, generate some visualizations that you feel would convey interesting insight to the end users for their dashboards."
   ]
  },
  {
   "cell_type": "code",
   "execution_count": 22,
   "metadata": {
    "collapsed": true
   },
   "outputs": [],
   "source": [
    "import matplotlib.pyplot as plt"
   ]
  }
 ],
 "metadata": {
  "kernelspec": {
   "display_name": "Python 2",
   "language": "python",
   "name": "python2"
  },
  "language_info": {
   "codemirror_mode": {
    "name": "ipython",
    "version": 2
   },
   "file_extension": ".py",
   "mimetype": "text/x-python",
   "name": "python",
   "nbconvert_exporter": "python",
   "pygments_lexer": "ipython2",
   "version": "2.7.5"
  }
 },
 "nbformat": 4,
 "nbformat_minor": 0
}
